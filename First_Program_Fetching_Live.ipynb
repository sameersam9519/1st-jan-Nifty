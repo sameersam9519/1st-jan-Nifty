{
  "nbformat": 4,
  "nbformat_minor": 0,
  "metadata": {
    "colab": {
      "name": "First_Program_Fetching_Live.ipynb",
      "provenance": [],
      "collapsed_sections": [],
      "authorship_tag": "ABX9TyP1zYLGWVr/H3dqLEpgXsMM",
      "include_colab_link": true
    },
    "kernelspec": {
      "name": "python3",
      "display_name": "Python 3"
    }
  },
  "cells": [
    {
      "cell_type": "markdown",
      "metadata": {
        "id": "view-in-github",
        "colab_type": "text"
      },
      "source": [
        "<a href=\"https://colab.research.google.com/github/sameersam9519/1st-jan-Nifty/blob/master/First_Program_Fetching_Live.ipynb\" target=\"_parent\"><img src=\"https://colab.research.google.com/assets/colab-badge.svg\" alt=\"Open In Colab\"/></a>"
      ]
    },
    {
      "cell_type": "code",
      "metadata": {
        "id": "cUOTdBlabOwB",
        "outputId": "0c62b6a0-d00d-4b95-894b-4f95d2b73548",
        "colab": {
          "base_uri": "https://localhost:8080/",
          "height": 285
        }
      },
      "source": [
        "import logging\n",
        "logging.basicConfig(level=logging.DEBUG)\n",
        "\n",
        "from alice_blue import *\n",
        "\n",
        "username = 'AB036588'\n",
        "password = 'Web@3418'\n",
        "twoFA='a'\n",
        "\n",
        "client_id = 'AB036588'\n",
        "client_secret='S1YLT7PXBD92864U595QRMOD6FP85KGIE2FQNGK7IT3S3R6ODP2KX8JGNVOORQ20'\n",
        "redirect_url= 'https://ant.aliceblueonline.com/plugin/callback'            # 'https://www.unofficed.com/alice/fallback/'\n",
        "\n",
        "access_token = AliceBlue.login_and_get_access_token(username=username, password=password, twoFA=twoFA,  api_secret=client_secret, redirect_url=redirect_url,app_id=client_id)\n",
        "\n",
        "alice = AliceBlue(username=username, password=password, access_token=access_token, master_contracts_to_download=['NSE', 'BSE', 'MCX', 'NFO'])\n",
        "\n",
        "\n",
        "print(alice.get_balance()) # get balance / margin limits\n",
        "print(alice.get_profile()) # get profile\n",
        "print(alice.get_daywise_positions()) # get daywise positions\n",
        "print(alice.get_netwise_positions()) # get netwise positions\n",
        "print(alice.get_holding_positions()) # get holding positions\n",
        "\n",
        "import time\n",
        "\n",
        "socket_opened = False\n",
        "def event_handler_quote_update(message):\n",
        "    # print(f\"quote update {message}\")\n",
        "    global ticks\n",
        "    ticks = message\n",
        "    print(ticks)\n",
        "    print(ticks['token'])\n",
        "    print(ticks['ltp'])\n",
        "    \n",
        "def open_callback():\n",
        "    global socket_opened\n",
        "    socket_opened = True\n",
        "\n",
        "alice.start_websocket(subscribe_callback=event_handler_quote_update,\n",
        "                      socket_open_callback=open_callback,\n",
        "                      run_in_background=True)\n",
        "while(socket_opened==False):\n",
        "    pass\n",
        "alice.subscribe(alice.get_instrument_by_symbol('NSE', 'TATASTEEL'), LiveFeedType.MARKET_DATA)\n",
        "time.sleep(5)\n",
        "\n",
        "while True:\n",
        "  # if(datetime.datetime.now().second == 0):\n",
        "  #   tickdata.append(tick)\n",
        "  #   print(tick)\n",
        "  #   time.sleep(0.5)\n",
        "    print(ticks)\n",
        "    print(\"Fetching Data.....\")\n",
        "    time.sleep(5)\n",
        "\n",
        "\n",
        "\n",
        "\n",
        "\n",
        "\n"
      ],
      "execution_count": 9,
      "outputs": [
        {
          "output_type": "stream",
          "text": [
            "{'exchange': 'NSE', 'token': 3499, 'ltp': 371.1, 'ltt': 1602066536, 'ltq': 40, 'volume': 9694124, 'best_bid_price': 0.0, 'best_bid_quantity': 0, 'best_ask_price': 371.1, 'best_ask_quantity': 1967, 'total_buy_quantity': 0, 'total_sell_quantity': 1967, 'atp': 373.53, 'exchange_time_stamp': 1602066563, 'open': 376.0, 'high': 379.3, 'low': 370.0, 'close': 371.1, 'yearly_high': 506.0, 'yearly_low': 250.85, 'instrument': Instrument(exchange='NSE', token=3499, symbol='TATASTEEL', name='TATA STEEL LIMITED', expiry=None, lot_size=None)}\n",
            "Fetching Data.....\n"
          ],
          "name": "stdout"
        },
        {
          "output_type": "error",
          "ename": "KeyboardInterrupt",
          "evalue": "ignored",
          "traceback": [
            "\u001b[0;31m---------------------------------------------------------------------------\u001b[0m",
            "\u001b[0;31mKeyboardInterrupt\u001b[0m                         Traceback (most recent call last)",
            "\u001b[0;32m<ipython-input-9-91c1637fa8fa>\u001b[0m in \u001b[0;36m<module>\u001b[0;34m()\u001b[0m\n\u001b[1;32m     53\u001b[0m     \u001b[0mprint\u001b[0m\u001b[0;34m(\u001b[0m\u001b[0mticks\u001b[0m\u001b[0;34m)\u001b[0m\u001b[0;34m\u001b[0m\u001b[0;34m\u001b[0m\u001b[0m\n\u001b[1;32m     54\u001b[0m     \u001b[0mprint\u001b[0m\u001b[0;34m(\u001b[0m\u001b[0;34m\"Fetching Data.....\"\u001b[0m\u001b[0;34m)\u001b[0m\u001b[0;34m\u001b[0m\u001b[0;34m\u001b[0m\u001b[0m\n\u001b[0;32m---> 55\u001b[0;31m     \u001b[0mtime\u001b[0m\u001b[0;34m.\u001b[0m\u001b[0msleep\u001b[0m\u001b[0;34m(\u001b[0m\u001b[0;36m5\u001b[0m\u001b[0;34m)\u001b[0m\u001b[0;34m\u001b[0m\u001b[0;34m\u001b[0m\u001b[0m\n\u001b[0m\u001b[1;32m     56\u001b[0m \u001b[0;34m\u001b[0m\u001b[0m\n\u001b[1;32m     57\u001b[0m \u001b[0;34m\u001b[0m\u001b[0m\n",
            "\u001b[0;31mKeyboardInterrupt\u001b[0m: "
          ]
        }
      ]
    }
  ]
}