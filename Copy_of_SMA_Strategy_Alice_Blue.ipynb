{
  "nbformat": 4,
  "nbformat_minor": 0,
  "metadata": {
    "colab": {
      "name": "Copy of SMA Strategy Alice Blue",
      "provenance": [],
      "collapsed_sections": [],
      "include_colab_link": true
    },
    "kernelspec": {
      "name": "python3",
      "display_name": "Python 3"
    }
  },
  "cells": [
    {
      "cell_type": "markdown",
      "metadata": {
        "id": "view-in-github",
        "colab_type": "text"
      },
      "source": [
        "<a href=\"https://colab.research.google.com/github/sameersam9519/1st-jan-Nifty/blob/master/Copy_of_SMA_Strategy_Alice_Blue.ipynb\" target=\"_parent\"><img src=\"https://colab.research.google.com/assets/colab-badge.svg\" alt=\"Open In Colab\"/></a>"
      ]
    },
    {
      "cell_type": "code",
      "metadata": {
        "id": "WFNf_aocyndN",
        "outputId": "ce65eb1d-ad81-4777-9cc5-a31eb1bbdb50",
        "colab": {
          "base_uri": "https://localhost:8080/",
          "height": 403
        }
      },
      "source": [
        "pip install alice-blue"
      ],
      "execution_count": null,
      "outputs": [
        {
          "output_type": "stream",
          "text": [
            "Collecting alice-blue\n",
            "  Downloading https://files.pythonhosted.org/packages/18/f3/4a601cf0d3e33c2619a314571b9db5d2cc485844eac8eb6be2bb82ee889a/alice_blue-0.0.6-py2.py3-none-any.whl\n",
            "Collecting protlib\n",
            "\u001b[?25l  Downloading https://files.pythonhosted.org/packages/1e/db/aefc89709519d0f620e85d31e0cbd8c6acd7542b3ab39a36637b03361f35/protlib-1.4.tar.gz (126kB)\n",
            "\u001b[K     |████████████████████████████████| 133kB 19.4MB/s \n",
            "\u001b[?25hRequirement already satisfied: requests in /usr/local/lib/python3.6/dist-packages (from alice-blue) (2.21.0)\n",
            "Requirement already satisfied: bs4 in /usr/local/lib/python3.6/dist-packages (from alice-blue) (0.0.1)\n",
            "Collecting websocket-client\n",
            "\u001b[?25l  Downloading https://files.pythonhosted.org/packages/29/19/44753eab1fdb50770ac69605527e8859468f3c0fd7dc5a76dd9c4dbd7906/websocket_client-0.56.0-py2.py3-none-any.whl (200kB)\n",
            "\u001b[K     |████████████████████████████████| 204kB 27.0MB/s \n",
            "\u001b[?25hRequirement already satisfied: idna<2.9,>=2.5 in /usr/local/lib/python3.6/dist-packages (from requests->alice-blue) (2.8)\n",
            "Requirement already satisfied: certifi>=2017.4.17 in /usr/local/lib/python3.6/dist-packages (from requests->alice-blue) (2019.11.28)\n",
            "Requirement already satisfied: urllib3<1.25,>=1.21.1 in /usr/local/lib/python3.6/dist-packages (from requests->alice-blue) (1.24.3)\n",
            "Requirement already satisfied: chardet<3.1.0,>=3.0.2 in /usr/local/lib/python3.6/dist-packages (from requests->alice-blue) (3.0.4)\n",
            "Requirement already satisfied: beautifulsoup4 in /usr/local/lib/python3.6/dist-packages (from bs4->alice-blue) (4.6.3)\n",
            "Requirement already satisfied: six in /usr/local/lib/python3.6/dist-packages (from websocket-client->alice-blue) (1.12.0)\n",
            "Building wheels for collected packages: protlib\n",
            "  Building wheel for protlib (setup.py) ... \u001b[?25l\u001b[?25hdone\n",
            "  Created wheel for protlib: filename=protlib-1.4-cp36-none-any.whl size=16509 sha256=bb8a6866eb4ba7b715535f0d8faaca2d79a7e71305210f54c109e72ddee8fc5d\n",
            "  Stored in directory: /root/.cache/pip/wheels/8a/63/00/ab8216d236452dc3e62006da7e843600104daa3076f2ce18a8\n",
            "Successfully built protlib\n",
            "Installing collected packages: protlib, websocket-client, alice-blue\n",
            "Successfully installed alice-blue-0.0.6 protlib-1.4 websocket-client-0.56.0\n"
          ],
          "name": "stdout"
        }
      ]
    },
    {
      "cell_type": "code",
      "metadata": {
        "id": "ospvy5WpzY_I",
        "outputId": "fa3ecf01-b2c0-4a3a-fbd2-7f2f3927a024",
        "colab": {
          "base_uri": "https://localhost:8080/",
          "height": 710
        }
      },
      "source": [
        "import logging\n",
        "import datetime\n",
        "import statistics\n",
        "from time import sleep\n",
        "from alice_blue import *\n",
        "\n",
        "# Config\n",
        "username = 'username'\n",
        "password = 'password'\n",
        "api_secret = 'api_secret'\n",
        "twoFA = 'twoFA'\n",
        "EMA_CROSS_SCRIP = 'INFY'\n",
        "logging.basicConfig(level=logging.DEBUG)        # Optional for getting debug messages.\n",
        "# Config\n",
        "\n",
        "ltp = 0\n",
        "socket_opened = False\n",
        "alice = None\n",
        "def event_handler_quote_update(message):\n",
        "    global ltp\n",
        "    ltp = message['ltp']\n",
        "\n",
        "def open_callback():\n",
        "    global socket_opened\n",
        "    socket_opened = True\n",
        "\n",
        "def buy_signal(ins_scrip):\n",
        "    global alice\n",
        "    alice.place_order(transaction_type = TransactionType.Buy,\n",
        "                         instrument = ins_scrip,\n",
        "                         quantity = 1,\n",
        "                         order_type = OrderType.Market,\n",
        "                         product_type = ProductType.Intraday,\n",
        "                         price = 0.0,\n",
        "                         trigger_price = None,\n",
        "                         stop_loss = None,\n",
        "                         square_off = None,\n",
        "                         trailing_sl = None,\n",
        "                         is_amo = False)\n",
        "\n",
        "def sell_signal(ins_scrip):\n",
        "    global alice\n",
        "    alice.place_order(transaction_type = TransactionType.Sell,\n",
        "                         instrument = ins_scrip,\n",
        "                         quantity = 1,\n",
        "                         order_type = OrderType.Market,\n",
        "                         product_type = ProductType.Intraday,\n",
        "                         price = 0.0,\n",
        "                         trigger_price = None,\n",
        "                         stop_loss = None,\n",
        "                         square_off = None,\n",
        "                         trailing_sl = None,\n",
        "                         is_amo = False)\n",
        "    \n",
        "def main():\n",
        "    global socket_opened\n",
        "    global alice\n",
        "    global username\n",
        "    global password\n",
        "    global twoFA\n",
        "    global api_secret\n",
        "    global EMA_CROSS_SCRIP\n",
        "    minute_close = []\n",
        "    access_token =  AliceBlue.login_and_get_access_token(username=username, password=password, twoFA=twoFA,  api_secret=api_secret)\n",
        "    alice = AliceBlue(username=username, password=password, access_token=access_token, master_contracts_to_download=['NSE'])\n",
        "    \n",
        "    print(alice.get_balance()) # get balance / margin limits\n",
        "    print(alice.get_profile()) # get profile\n",
        "    print(alice.get_daywise_positions()) # get daywise positions\n",
        "    print(alice.get_netwise_positions()) # get netwise positions\n",
        "    print(alice.get_holding_positions()) # get holding positions\n",
        "    \n",
        "    ins_scrip = alice.get_instrument_by_symbol('NSE', EMA_CROSS_SCRIP)\n",
        "    \n",
        "    socket_opened = False\n",
        "    alice.start_websocket(subscribe_callback=event_handler_quote_update,\n",
        "                          socket_open_callback=open_callback,\n",
        "                          run_in_background=True)\n",
        "    while(socket_opened==False):    # wait till socket open & then subscribe\n",
        "        pass\n",
        "    alice.subscribe(ins_scrip, LiveFeedType.COMPACT)\n",
        "    \n",
        "    while True:\n",
        "        if(datetime.datetime.now().second == 0):\n",
        "            minute_close.append(ltp)\n",
        "            print(ltp) #Just added this line so that you know that it is fetching the LTP.\n",
        "            if(len(minute_close) > 20):\n",
        "                sma_5 = statistics.mean(minute_close[-5:])\n",
        "                sma_20 = statistics.mean(minute_close[-20:])\n",
        "                if(sma_5 > sma_20):\n",
        "                    buy_signal(ins_scrip)\n",
        "                elif(sma_5 < sma_20):\n",
        "                    sell_signal(ins_scrip)\n",
        "            sleep(1)\n",
        "        sleep(0.2)  # sleep for 200ms\n",
        "    \n",
        "if(__name__ == '__main__'):\n",
        "    main()\n"
      ],
      "execution_count": null,
      "outputs": [
        {
          "output_type": "stream",
          "text": [
            "DEBUG:urllib3.connectionpool:Starting new HTTPS connection (1): ant.aliceblueonline.com:443\n",
            "DEBUG:urllib3.connectionpool:https://ant.aliceblueonline.com:443 \"GET /oauth2/auth?response_type=code&state=test_state&client_id=WBK268&redirect_uri=https://ant.aliceblueonline.com/plugin/callback HTTP/1.1\" 302 115\n",
            "DEBUG:urllib3.connectionpool:https://ant.aliceblueonline.com:443 \"GET /oauth/login?login_challenge=4e09201f1c8a4b1ea6dbcbb5bc19ae5b HTTP/1.1\" 200 None\n",
            "DEBUG:urllib3.connectionpool:https://ant.aliceblueonline.com:443 \"POST /oauth/login?login_challenge=4e09201f1c8a4b1ea6dbcbb5bc19ae5b HTTP/1.1\" 302 371\n",
            "DEBUG:urllib3.connectionpool:https://ant.aliceblueonline.com:443 \"GET /oauth/twofa?login_challenge=4e09201f1c8a4b1ea6dbcbb5bc19ae5b&login_id=WBK268&question_ids=27%7C37&questions=With+which+company+did+you+start+your+career%3F+%28e.g.+TATA%2C+Infosys%2C+Etc.%29%7CWhich+web-site+you+created+your+first+e-mail+account%3F+%28e.g.++Rediff%2C+Sify%2C+Office%2C+etc%29 HTTP/1.1\" 200 None\n",
            "INFO:root:Assuming answers for all 2FA questions are 'a', Please change it to 'a' if not\n",
            "DEBUG:urllib3.connectionpool:https://ant.aliceblueonline.com:443 \"POST /oauth/twofa?login_challenge=4e09201f1c8a4b1ea6dbcbb5bc19ae5b&login_id=WBK268&question_ids=27%7C37&questions=With+which+company+did+you+start+your+career%3F+%28e.g.+TATA%2C+Infosys%2C+Etc.%29%7CWhich+web-site+you+created+your+first+e-mail+account%3F+%28e.g.++Rediff%2C+Sify%2C+Office%2C+etc%29 HTTP/1.1\" 302 297\n",
            "DEBUG:urllib3.connectionpool:https://ant.aliceblueonline.com:443 \"GET /oauth2/auth?client_id=WBK268&login_verifier=967d1fb51fb74ca4b6f6c020159be942&redirect_uri=https%3A%2F%2Fant.aliceblueonline.com%2Fplugin%2Fcallback&response_type=code&state=test_state HTTP/1.1\" 302 119\n",
            "DEBUG:urllib3.connectionpool:https://ant.aliceblueonline.com:443 \"GET /oauth/consent?consent_challenge=77f088bd93a64f42b1df8863fe68502f HTTP/1.1\" 302 299\n",
            "DEBUG:urllib3.connectionpool:https://ant.aliceblueonline.com:443 \"GET /oauth2/auth?client_id=WBK268&consent_verifier=d7d89648fc434de499042907098512fa&redirect_uri=https%3A%2F%2Fant.aliceblueonline.com%2Fplugin%2Fcallback&response_type=code&state=test_state HTTP/1.1\" 302 0\n",
            "DEBUG:urllib3.connectionpool:https://ant.aliceblueonline.com:443 \"GET /plugin/callback?code=Owcnjqyjns1M_a2_RAx8XIIMZLbNaQMJyKXDfPc5wWs.Eo8xphqqOK4r2VfK6shAnSG7J_sjp2o3LgsCObXiESY&scope=&state=test_state HTTP/1.1\" 301 170\n",
            "DEBUG:urllib3.connectionpool:Starting new HTTP connection (1): ant.aliceblueonline.com:80\n",
            "DEBUG:urllib3.connectionpool:http://ant.aliceblueonline.com:80 \"GET /plugin/callback/?code=Owcnjqyjns1M_a2_RAx8XIIMZLbNaQMJyKXDfPc5wWs.Eo8xphqqOK4r2VfK6shAnSG7J_sjp2o3LgsCObXiESY&scope=&state=test_state HTTP/1.1\" 301 185\n",
            "DEBUG:urllib3.connectionpool:https://ant.aliceblueonline.com:443 \"GET /plugin/callback/?code=Owcnjqyjns1M_a2_RAx8XIIMZLbNaQMJyKXDfPc5wWs.Eo8xphqqOK4r2VfK6shAnSG7J_sjp2o3LgsCObXiESY&scope=&state=test_state HTTP/1.1\" 200 None\n",
            "DEBUG:urllib3.connectionpool:https://ant.aliceblueonline.com:443 \"POST /oauth2/token?client_id=WBK268&client_secret=YHIJ31YYNA45101KU78CNAPF2N02ZXZ949C3QN1CX2B3W97R32X2TWCX2DRQA690&grant_type=authorization_code&code=Owcnjqyjns1M_a2_RAx8XIIMZLbNaQMJyKXDfPc5wWs.Eo8xphqqOK4r2VfK6shAnSG7J_sjp2o3LgsCObXiESY&redirect_uri=https://ant.aliceblueonline.com/plugin/callback&authorization_response=authorization_response HTTP/1.1\" 401 191\n",
            "INFO:root:Couldn't get access token {'error': 'invalid_client', 'error_description': 'Client authentication failed (e.g., unknown client, no client authentication included, or unsupported authentication method)', 'status_code': 401}\n"
          ],
          "name": "stderr"
        },
        {
          "output_type": "error",
          "ename": "Exception",
          "evalue": "ignored",
          "traceback": [
            "\u001b[0;31m---------------------------------------------------------------------------\u001b[0m",
            "\u001b[0;31mTypeError\u001b[0m                                 Traceback (most recent call last)",
            "\u001b[0;32m/usr/local/lib/python3.6/dist-packages/alice_blue/alice_blue.py\u001b[0m in \u001b[0;36m__init__\u001b[0;34m(self, username, password, access_token, master_contracts_to_download)\u001b[0m\n\u001b[1;32m    198\u001b[0m         \u001b[0;32mtry\u001b[0m\u001b[0;34m:\u001b[0m\u001b[0;34m\u001b[0m\u001b[0;34m\u001b[0m\u001b[0m\n\u001b[0;32m--> 199\u001b[0;31m             \u001b[0mprofile\u001b[0m \u001b[0;34m=\u001b[0m \u001b[0mself\u001b[0m\u001b[0;34m.\u001b[0m\u001b[0mget_profile\u001b[0m\u001b[0;34m(\u001b[0m\u001b[0;34m)\u001b[0m\u001b[0;34m\u001b[0m\u001b[0;34m\u001b[0m\u001b[0m\n\u001b[0m\u001b[1;32m    200\u001b[0m         \u001b[0;32mexcept\u001b[0m \u001b[0mException\u001b[0m \u001b[0;32mas\u001b[0m \u001b[0me\u001b[0m\u001b[0;34m:\u001b[0m\u001b[0;34m\u001b[0m\u001b[0;34m\u001b[0m\u001b[0m\n",
            "\u001b[0;32m/usr/local/lib/python3.6/dist-packages/alice_blue/alice_blue.py\u001b[0m in \u001b[0;36mget_profile\u001b[0;34m(self)\u001b[0m\n\u001b[1;32m    396\u001b[0m     \u001b[0;32mdef\u001b[0m \u001b[0mget_profile\u001b[0m\u001b[0;34m(\u001b[0m\u001b[0mself\u001b[0m\u001b[0;34m)\u001b[0m\u001b[0;34m:\u001b[0m\u001b[0;34m\u001b[0m\u001b[0;34m\u001b[0m\u001b[0m\n\u001b[0;32m--> 397\u001b[0;31m         \u001b[0mprofile\u001b[0m \u001b[0;34m=\u001b[0m \u001b[0mself\u001b[0m\u001b[0;34m.\u001b[0m\u001b[0m__api_call_helper\u001b[0m\u001b[0;34m(\u001b[0m\u001b[0;34m'profile'\u001b[0m\u001b[0;34m,\u001b[0m \u001b[0mRequests\u001b[0m\u001b[0;34m.\u001b[0m\u001b[0mGET\u001b[0m\u001b[0;34m,\u001b[0m \u001b[0;32mNone\u001b[0m\u001b[0;34m,\u001b[0m \u001b[0;32mNone\u001b[0m\u001b[0;34m)\u001b[0m\u001b[0;34m\u001b[0m\u001b[0;34m\u001b[0m\u001b[0m\n\u001b[0m\u001b[1;32m    398\u001b[0m         \u001b[0;32mif\u001b[0m\u001b[0;34m(\u001b[0m\u001b[0mprofile\u001b[0m\u001b[0;34m[\u001b[0m\u001b[0;34m'status'\u001b[0m\u001b[0;34m]\u001b[0m \u001b[0;34m!=\u001b[0m \u001b[0;34m'error'\u001b[0m\u001b[0;34m)\u001b[0m\u001b[0;34m:\u001b[0m\u001b[0;34m\u001b[0m\u001b[0;34m\u001b[0m\u001b[0m\n",
            "\u001b[0;32m/usr/local/lib/python3.6/dist-packages/alice_blue/alice_blue.py\u001b[0m in \u001b[0;36m__api_call_helper\u001b[0;34m(self, name, http_method, params, data)\u001b[0m\n\u001b[1;32m    749\u001b[0m             \u001b[0murl\u001b[0m \u001b[0;34m=\u001b[0m \u001b[0murl\u001b[0m\u001b[0;34m.\u001b[0m\u001b[0mformat\u001b[0m\u001b[0;34m(\u001b[0m\u001b[0;34m**\u001b[0m\u001b[0mparams\u001b[0m\u001b[0;34m)\u001b[0m\u001b[0;34m\u001b[0m\u001b[0;34m\u001b[0m\u001b[0m\n\u001b[0;32m--> 750\u001b[0;31m         \u001b[0mresponse\u001b[0m \u001b[0;34m=\u001b[0m \u001b[0mself\u001b[0m\u001b[0;34m.\u001b[0m\u001b[0m__api_call\u001b[0m\u001b[0;34m(\u001b[0m\u001b[0murl\u001b[0m\u001b[0;34m,\u001b[0m \u001b[0mhttp_method\u001b[0m\u001b[0;34m,\u001b[0m \u001b[0mdata\u001b[0m\u001b[0;34m)\u001b[0m\u001b[0;34m\u001b[0m\u001b[0;34m\u001b[0m\u001b[0m\n\u001b[0m\u001b[1;32m    751\u001b[0m         \u001b[0;32mif\u001b[0m \u001b[0mresponse\u001b[0m\u001b[0;34m.\u001b[0m\u001b[0mstatus_code\u001b[0m \u001b[0;34m!=\u001b[0m \u001b[0;36m200\u001b[0m\u001b[0;34m:\u001b[0m\u001b[0;34m\u001b[0m\u001b[0;34m\u001b[0m\u001b[0m\n",
            "\u001b[0;32m/usr/local/lib/python3.6/dist-packages/alice_blue/alice_blue.py\u001b[0m in \u001b[0;36m__api_call\u001b[0;34m(self, url, http_method, data)\u001b[0m\n\u001b[1;32m    757\u001b[0m         \u001b[0mheaders\u001b[0m \u001b[0;34m=\u001b[0m \u001b[0;34m{\u001b[0m\u001b[0;34m\"Content-Type\"\u001b[0m\u001b[0;34m:\u001b[0m \u001b[0;34m\"application/json\"\u001b[0m\u001b[0;34m}\u001b[0m\u001b[0;34m\u001b[0m\u001b[0;34m\u001b[0m\u001b[0m\n\u001b[0;32m--> 758\u001b[0;31m         \u001b[0;32mif\u001b[0m\u001b[0;34m(\u001b[0m\u001b[0mlen\u001b[0m\u001b[0;34m(\u001b[0m\u001b[0mself\u001b[0m\u001b[0;34m.\u001b[0m\u001b[0m__access_token\u001b[0m\u001b[0;34m)\u001b[0m \u001b[0;34m>\u001b[0m \u001b[0;36m100\u001b[0m\u001b[0;34m)\u001b[0m\u001b[0;34m:\u001b[0m\u001b[0;34m\u001b[0m\u001b[0;34m\u001b[0m\u001b[0m\n\u001b[0m\u001b[1;32m    759\u001b[0m             \u001b[0mheaders\u001b[0m\u001b[0;34m[\u001b[0m\u001b[0;34m'X-Authorization-Token'\u001b[0m\u001b[0;34m]\u001b[0m \u001b[0;34m=\u001b[0m \u001b[0mself\u001b[0m\u001b[0;34m.\u001b[0m\u001b[0m__access_token\u001b[0m\u001b[0;34m\u001b[0m\u001b[0;34m\u001b[0m\u001b[0m\n",
            "\u001b[0;31mTypeError\u001b[0m: object of type 'NoneType' has no len()",
            "\nDuring handling of the above exception, another exception occurred:\n",
            "\u001b[0;31mException\u001b[0m                                 Traceback (most recent call last)",
            "\u001b[0;32m<ipython-input-5-26a127321ade>\u001b[0m in \u001b[0;36m<module>\u001b[0;34m()\u001b[0m\n\u001b[1;32m     96\u001b[0m \u001b[0;34m\u001b[0m\u001b[0m\n\u001b[1;32m     97\u001b[0m \u001b[0;32mif\u001b[0m\u001b[0;34m(\u001b[0m\u001b[0m__name__\u001b[0m \u001b[0;34m==\u001b[0m \u001b[0;34m'__main__'\u001b[0m\u001b[0;34m)\u001b[0m\u001b[0;34m:\u001b[0m\u001b[0;34m\u001b[0m\u001b[0;34m\u001b[0m\u001b[0m\n\u001b[0;32m---> 98\u001b[0;31m     \u001b[0mmain\u001b[0m\u001b[0;34m(\u001b[0m\u001b[0;34m)\u001b[0m\u001b[0;34m\u001b[0m\u001b[0;34m\u001b[0m\u001b[0m\n\u001b[0m",
            "\u001b[0;32m<ipython-input-5-26a127321ade>\u001b[0m in \u001b[0;36mmain\u001b[0;34m()\u001b[0m\n\u001b[1;32m     63\u001b[0m     \u001b[0mminute_close\u001b[0m \u001b[0;34m=\u001b[0m \u001b[0;34m[\u001b[0m\u001b[0;34m]\u001b[0m\u001b[0;34m\u001b[0m\u001b[0;34m\u001b[0m\u001b[0m\n\u001b[1;32m     64\u001b[0m     \u001b[0maccess_token\u001b[0m \u001b[0;34m=\u001b[0m  \u001b[0mAliceBlue\u001b[0m\u001b[0;34m.\u001b[0m\u001b[0mlogin_and_get_access_token\u001b[0m\u001b[0;34m(\u001b[0m\u001b[0musername\u001b[0m\u001b[0;34m=\u001b[0m\u001b[0musername\u001b[0m\u001b[0;34m,\u001b[0m \u001b[0mpassword\u001b[0m\u001b[0;34m=\u001b[0m\u001b[0mpassword\u001b[0m\u001b[0;34m,\u001b[0m \u001b[0mtwoFA\u001b[0m\u001b[0;34m=\u001b[0m\u001b[0mtwoFA\u001b[0m\u001b[0;34m,\u001b[0m  \u001b[0mapi_secret\u001b[0m\u001b[0;34m=\u001b[0m\u001b[0mapi_secret\u001b[0m\u001b[0;34m)\u001b[0m\u001b[0;34m\u001b[0m\u001b[0;34m\u001b[0m\u001b[0m\n\u001b[0;32m---> 65\u001b[0;31m     \u001b[0malice\u001b[0m \u001b[0;34m=\u001b[0m \u001b[0mAliceBlue\u001b[0m\u001b[0;34m(\u001b[0m\u001b[0musername\u001b[0m\u001b[0;34m=\u001b[0m\u001b[0musername\u001b[0m\u001b[0;34m,\u001b[0m \u001b[0mpassword\u001b[0m\u001b[0;34m=\u001b[0m\u001b[0mpassword\u001b[0m\u001b[0;34m,\u001b[0m \u001b[0maccess_token\u001b[0m\u001b[0;34m=\u001b[0m\u001b[0maccess_token\u001b[0m\u001b[0;34m,\u001b[0m \u001b[0mmaster_contracts_to_download\u001b[0m\u001b[0;34m=\u001b[0m\u001b[0;34m[\u001b[0m\u001b[0;34m'NSE'\u001b[0m\u001b[0;34m]\u001b[0m\u001b[0;34m)\u001b[0m\u001b[0;34m\u001b[0m\u001b[0;34m\u001b[0m\u001b[0m\n\u001b[0m\u001b[1;32m     66\u001b[0m \u001b[0;34m\u001b[0m\u001b[0m\n\u001b[1;32m     67\u001b[0m     \u001b[0mprint\u001b[0m\u001b[0;34m(\u001b[0m\u001b[0malice\u001b[0m\u001b[0;34m.\u001b[0m\u001b[0mget_balance\u001b[0m\u001b[0;34m(\u001b[0m\u001b[0;34m)\u001b[0m\u001b[0;34m)\u001b[0m \u001b[0;31m# get balance / margin limits\u001b[0m\u001b[0;34m\u001b[0m\u001b[0;34m\u001b[0m\u001b[0m\n",
            "\u001b[0;32m/usr/local/lib/python3.6/dist-packages/alice_blue/alice_blue.py\u001b[0m in \u001b[0;36m__init__\u001b[0;34m(self, username, password, access_token, master_contracts_to_download)\u001b[0m\n\u001b[1;32m    199\u001b[0m             \u001b[0mprofile\u001b[0m \u001b[0;34m=\u001b[0m \u001b[0mself\u001b[0m\u001b[0;34m.\u001b[0m\u001b[0mget_profile\u001b[0m\u001b[0;34m(\u001b[0m\u001b[0;34m)\u001b[0m\u001b[0;34m\u001b[0m\u001b[0;34m\u001b[0m\u001b[0m\n\u001b[1;32m    200\u001b[0m         \u001b[0;32mexcept\u001b[0m \u001b[0mException\u001b[0m \u001b[0;32mas\u001b[0m \u001b[0me\u001b[0m\u001b[0;34m:\u001b[0m\u001b[0;34m\u001b[0m\u001b[0;34m\u001b[0m\u001b[0m\n\u001b[0;32m--> 201\u001b[0;31m             \u001b[0;32mraise\u001b[0m \u001b[0mException\u001b[0m\u001b[0;34m(\u001b[0m\u001b[0;34mf\"Couldn't get profile info with credentials provided '{e}'\"\u001b[0m\u001b[0;34m)\u001b[0m\u001b[0;34m\u001b[0m\u001b[0;34m\u001b[0m\u001b[0m\n\u001b[0m\u001b[1;32m    202\u001b[0m         \u001b[0;32mif\u001b[0m\u001b[0;34m(\u001b[0m\u001b[0mprofile\u001b[0m\u001b[0;34m[\u001b[0m\u001b[0;34m'status'\u001b[0m\u001b[0;34m]\u001b[0m \u001b[0;34m==\u001b[0m \u001b[0;34m'error'\u001b[0m\u001b[0;34m)\u001b[0m\u001b[0;34m:\u001b[0m\u001b[0;34m\u001b[0m\u001b[0;34m\u001b[0m\u001b[0m\n\u001b[1;32m    203\u001b[0m             \u001b[0;32mif\u001b[0m\u001b[0;34m(\u001b[0m\u001b[0mprofile\u001b[0m\u001b[0;34m[\u001b[0m\u001b[0;34m'message'\u001b[0m\u001b[0;34m]\u001b[0m \u001b[0;34m==\u001b[0m \u001b[0;34m'Not able to retrieve AccountInfoService'\u001b[0m\u001b[0;34m)\u001b[0m\u001b[0;34m:\u001b[0m     \u001b[0;31m# Don't know why this error comes, but it safe to proceed further.\u001b[0m\u001b[0;34m\u001b[0m\u001b[0;34m\u001b[0m\u001b[0m\n",
            "\u001b[0;31mException\u001b[0m: Couldn't get profile info with credentials provided 'object of type 'NoneType' has no len()'"
          ]
        }
      ]
    }
  ]
}